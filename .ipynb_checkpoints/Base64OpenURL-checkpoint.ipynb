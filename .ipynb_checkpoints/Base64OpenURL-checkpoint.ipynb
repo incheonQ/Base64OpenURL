{
 "cells": [
  {
   "cell_type": "markdown",
   "id": "ab8bb031",
   "metadata": {},
   "source": [
    "<기능 1 : Base64 Decoded --> URL open> \n",
    "1. Base64 암호문 클립보드에 복사 (Ctrl+C)\n",
    "2. 프로그램(.py) 실행\n",
    "3. 복호화한 내용이 URL인 경우, 해당 페이지 열기\n",
    "\n",
    "<기능 2: URL --> Base64 Encoded>\n",
    "1. 암호화할 문장(URL)을 클립보드에 복사 (Ctrl+C)\n",
    "2. 프로그램(.py) 실행\n",
    "3. 암호화한 내용을 클립보드에 복사"
   ]
  },
  {
   "cell_type": "code",
   "execution_count": 4,
   "id": "5bc81fad",
   "metadata": {},
   "outputs": [],
   "source": [
    "import base64\n",
    "import webbrowser\n",
    "import clipboard\n",
    "\n",
    "def base64_encode(contents):\n",
    "    contents_bytes = contents.encode('ascii')\n",
    "    contents_base64 = base64.b64encode(contents_bytes)\n",
    "    base64_str = contents_base64.decode('ascii')\n",
    "    return base64_str\n",
    "\n",
    "def base64_decode(base64_str):\n",
    "    contents = base64.b64decode(base64_str).decode('ascii')\n",
    "    return contents\n",
    "\n",
    "contents = clipboard.paste()\n",
    "\n",
    "try:\n",
    "    url = base64_decode(contents)\n",
    "    webbrowser.open(url)\n",
    "    \n",
    "except:\n",
    "    encoded = base64_encode(contents)\n",
    "    clipboard.copy(encoded)"
   ]
  },
  {
   "cell_type": "code",
   "execution_count": null,
   "id": "4e00b2a7",
   "metadata": {},
   "outputs": [],
   "source": []
  }
 ],
 "metadata": {
  "kernelspec": {
   "display_name": "Python 3 (ipykernel)",
   "language": "python",
   "name": "python3"
  },
  "language_info": {
   "codemirror_mode": {
    "name": "ipython",
    "version": 3
   },
   "file_extension": ".py",
   "mimetype": "text/x-python",
   "name": "python",
   "nbconvert_exporter": "python",
   "pygments_lexer": "ipython3",
   "version": "3.9.7"
  }
 },
 "nbformat": 4,
 "nbformat_minor": 5
}
